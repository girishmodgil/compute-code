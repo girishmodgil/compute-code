{
 "cells": [
  {
   "cell_type": "markdown",
   "metadata": {},
   "source": [
    "# Beer Reviews\n",
    "\n",
    "__Dataset is Beer Advocate data from Stanford's dataset library and contains > 1.5M rows of data__\n",
    "\n",
    "Data Structure:\n",
    "1. beer/name : Name of the beer\n",
    "2. beer/beerId : Unique beer identification\n",
    "3. beer/brewerId : Unique ID identifying the brewer\n",
    "4. beer/style : Category that the beer falls into\n",
    "5. beer/ABV : Alcohol by volume\n",
    "6. review/profileName: Reviewer’s profile name / user ID\n",
    "7. review/time : UNIX time when review was written\n",
    "8. review/aroma : Rating based on how the beer smells [1­5]\n",
    "9. review/palate : Rating based on how the beer interacts with the palate [1­5]\n",
    "10. review/taste : Rating based on how the beer actually tastes [1­5]\n",
    "11. review/appearance: Rating based on how the beer looks [1­5]\n",
    "12. review/text : Personal observations made by the review in text format\n",
    "13. review/overall : Cumulative experience of the beer is encapsulated in this rating [1­5]\n",
    "\n",
    "Use the CSV file provided to answer the following questions:\n",
    "1. Read the CSV file.\n",
    "2. How many rows are there? Are there any Null Values?\n",
    "3. What are the 3 strongest beers by ABV? \n",
    "4. Which breweries produce the top 3 strongest beers?\n",
    "5. Which of the factors (aroma, taste, appearance, palette) are most important in determining the overall quality of a beer?\n",
    "6. If I typically enjoy a beer due to its aroma and appearance, which beer style should I try?\n",
    "7. Use results from (6) and find me the aroma score for an appearance scores 2.6 and 4.8\n"
   ]
  },
  {
   "cell_type": "code",
   "execution_count": 2,
   "metadata": {
    "collapsed": false
   },
   "outputs": [],
   "source": [
    "# Import the libraries\n",
    "import numpy as np\n",
    "import pandas as pd\n",
    "import matplotlib.pyplot as plt\n",
    "import seaborn as sns"
   ]
  },
  {
   "cell_type": "markdown",
   "metadata": {},
   "source": [
    "__Answers to Question 1 and 2__"
   ]
  },
  {
   "cell_type": "code",
   "execution_count": 3,
   "metadata": {
    "collapsed": false
   },
   "outputs": [
    {
     "data": {
      "text/html": [
       "<div>\n",
       "<table border=\"1\" class=\"dataframe\">\n",
       "  <thead>\n",
       "    <tr style=\"text-align: right;\">\n",
       "      <th></th>\n",
       "      <th>brewery_id</th>\n",
       "      <th>brewery_name</th>\n",
       "      <th>review_time</th>\n",
       "      <th>review_overall</th>\n",
       "      <th>review_aroma</th>\n",
       "      <th>review_appearance</th>\n",
       "      <th>review_profilename</th>\n",
       "      <th>beer_style</th>\n",
       "      <th>review_palate</th>\n",
       "      <th>review_taste</th>\n",
       "      <th>beer_name</th>\n",
       "      <th>beer_abv</th>\n",
       "      <th>beer_beerid</th>\n",
       "    </tr>\n",
       "  </thead>\n",
       "  <tbody>\n",
       "    <tr>\n",
       "      <th>0</th>\n",
       "      <td>10325</td>\n",
       "      <td>Vecchio Birraio</td>\n",
       "      <td>1234817823</td>\n",
       "      <td>1.5</td>\n",
       "      <td>2.0</td>\n",
       "      <td>2.5</td>\n",
       "      <td>stcules</td>\n",
       "      <td>Hefeweizen</td>\n",
       "      <td>1.5</td>\n",
       "      <td>1.5</td>\n",
       "      <td>Sausa Weizen</td>\n",
       "      <td>5.0</td>\n",
       "      <td>47986</td>\n",
       "    </tr>\n",
       "    <tr>\n",
       "      <th>1</th>\n",
       "      <td>10325</td>\n",
       "      <td>Vecchio Birraio</td>\n",
       "      <td>1235915097</td>\n",
       "      <td>3.0</td>\n",
       "      <td>2.5</td>\n",
       "      <td>3.0</td>\n",
       "      <td>stcules</td>\n",
       "      <td>English Strong Ale</td>\n",
       "      <td>3.0</td>\n",
       "      <td>3.0</td>\n",
       "      <td>Red Moon</td>\n",
       "      <td>6.2</td>\n",
       "      <td>48213</td>\n",
       "    </tr>\n",
       "    <tr>\n",
       "      <th>2</th>\n",
       "      <td>10325</td>\n",
       "      <td>Vecchio Birraio</td>\n",
       "      <td>1235916604</td>\n",
       "      <td>3.0</td>\n",
       "      <td>2.5</td>\n",
       "      <td>3.0</td>\n",
       "      <td>stcules</td>\n",
       "      <td>Foreign / Export Stout</td>\n",
       "      <td>3.0</td>\n",
       "      <td>3.0</td>\n",
       "      <td>Black Horse Black Beer</td>\n",
       "      <td>6.5</td>\n",
       "      <td>48215</td>\n",
       "    </tr>\n",
       "    <tr>\n",
       "      <th>3</th>\n",
       "      <td>10325</td>\n",
       "      <td>Vecchio Birraio</td>\n",
       "      <td>1234725145</td>\n",
       "      <td>3.0</td>\n",
       "      <td>3.0</td>\n",
       "      <td>3.5</td>\n",
       "      <td>stcules</td>\n",
       "      <td>German Pilsener</td>\n",
       "      <td>2.5</td>\n",
       "      <td>3.0</td>\n",
       "      <td>Sausa Pils</td>\n",
       "      <td>5.0</td>\n",
       "      <td>47969</td>\n",
       "    </tr>\n",
       "    <tr>\n",
       "      <th>4</th>\n",
       "      <td>1075</td>\n",
       "      <td>Caldera Brewing Company</td>\n",
       "      <td>1293735206</td>\n",
       "      <td>4.0</td>\n",
       "      <td>4.5</td>\n",
       "      <td>4.0</td>\n",
       "      <td>johnmichaelsen</td>\n",
       "      <td>American Double / Imperial IPA</td>\n",
       "      <td>4.0</td>\n",
       "      <td>4.5</td>\n",
       "      <td>Cauldron DIPA</td>\n",
       "      <td>7.7</td>\n",
       "      <td>64883</td>\n",
       "    </tr>\n",
       "  </tbody>\n",
       "</table>\n",
       "</div>"
      ],
      "text/plain": [
       "   brewery_id             brewery_name  review_time  review_overall  \\\n",
       "0       10325          Vecchio Birraio   1234817823             1.5   \n",
       "1       10325          Vecchio Birraio   1235915097             3.0   \n",
       "2       10325          Vecchio Birraio   1235916604             3.0   \n",
       "3       10325          Vecchio Birraio   1234725145             3.0   \n",
       "4        1075  Caldera Brewing Company   1293735206             4.0   \n",
       "\n",
       "   review_aroma  review_appearance review_profilename  \\\n",
       "0           2.0                2.5            stcules   \n",
       "1           2.5                3.0            stcules   \n",
       "2           2.5                3.0            stcules   \n",
       "3           3.0                3.5            stcules   \n",
       "4           4.5                4.0     johnmichaelsen   \n",
       "\n",
       "                       beer_style  review_palate  review_taste  \\\n",
       "0                      Hefeweizen            1.5           1.5   \n",
       "1              English Strong Ale            3.0           3.0   \n",
       "2          Foreign / Export Stout            3.0           3.0   \n",
       "3                 German Pilsener            2.5           3.0   \n",
       "4  American Double / Imperial IPA            4.0           4.5   \n",
       "\n",
       "                beer_name  beer_abv  beer_beerid  \n",
       "0            Sausa Weizen       5.0        47986  \n",
       "1                Red Moon       6.2        48213  \n",
       "2  Black Horse Black Beer       6.5        48215  \n",
       "3              Sausa Pils       5.0        47969  \n",
       "4           Cauldron DIPA       7.7        64883  "
      ]
     },
     "execution_count": 3,
     "metadata": {},
     "output_type": "execute_result"
    }
   ],
   "source": [
    "#Read the CSV file\n",
    "df = pd.read_csv('beer_reviews.csv')\n",
    "df.head(5) # Display top 5 rows"
   ]
  },
  {
   "cell_type": "code",
   "execution_count": 4,
   "metadata": {
    "collapsed": false
   },
   "outputs": [
    {
     "data": {
      "text/plain": [
       "(1586614, 13)"
      ]
     },
     "execution_count": 4,
     "metadata": {},
     "output_type": "execute_result"
    }
   ],
   "source": [
    "#What is the shape of the data\n",
    "df.shape"
   ]
  },
  {
   "cell_type": "code",
   "execution_count": 5,
   "metadata": {
    "collapsed": false
   },
   "outputs": [
    {
     "data": {
      "text/plain": [
       "brewery_id                0\n",
       "brewery_name             15\n",
       "review_time               0\n",
       "review_overall            0\n",
       "review_aroma              0\n",
       "review_appearance         0\n",
       "review_profilename      348\n",
       "beer_style                0\n",
       "review_palate             0\n",
       "review_taste              0\n",
       "beer_name                 0\n",
       "beer_abv              67785\n",
       "beer_beerid               0\n",
       "dtype: int64"
      ]
     },
     "execution_count": 5,
     "metadata": {},
     "output_type": "execute_result"
    }
   ],
   "source": [
    "#Describe how many null values exist and in which columns\n",
    "df.isnull().sum() "
   ]
  },
  {
   "cell_type": "code",
   "execution_count": 6,
   "metadata": {
    "collapsed": false
   },
   "outputs": [
    {
     "data": {
      "text/plain": [
       "Index(['brewery_id', 'brewery_name', 'review_time', 'review_overall',\n",
       "       'review_aroma', 'review_appearance', 'review_profilename', 'beer_style',\n",
       "       'review_palate', 'review_taste', 'beer_name', 'beer_abv',\n",
       "       'beer_beerid'],\n",
       "      dtype='object')"
      ]
     },
     "execution_count": 6,
     "metadata": {},
     "output_type": "execute_result"
    }
   ],
   "source": [
    "df.columns"
   ]
  },
  {
   "cell_type": "code",
   "execution_count": 7,
   "metadata": {
    "collapsed": false
   },
   "outputs": [
    {
     "data": {
      "text/plain": [
       "(68136, 13)"
      ]
     },
     "execution_count": 7,
     "metadata": {},
     "output_type": "execute_result"
    }
   ],
   "source": [
    "#Find all the rows with NaN \n",
    "nansdf = lambda df: df[df.isnull().any(axis=1)]\n",
    "\n",
    "#Print the number of rows\n",
    "nansdf(df).shape"
   ]
  },
  {
   "cell_type": "code",
   "execution_count": 8,
   "metadata": {
    "collapsed": true
   },
   "outputs": [],
   "source": [
    "#Let's drop the rows with NaNs. \n",
    "#Even though ABV has the highest count of NaNs, this action will catch some non-ABV rows with NaNs\n",
    "#and drop them\n",
    "df_nonan = df.dropna(axis=0)"
   ]
  },
  {
   "cell_type": "code",
   "execution_count": 9,
   "metadata": {
    "collapsed": false
   },
   "outputs": [
    {
     "data": {
      "text/plain": [
       "-68136"
      ]
     },
     "execution_count": 9,
     "metadata": {},
     "output_type": "execute_result"
    }
   ],
   "source": [
    "df_nonan.shape[0] - df.shape[0]"
   ]
  },
  {
   "cell_type": "code",
   "execution_count": 10,
   "metadata": {
    "collapsed": false
   },
   "outputs": [
    {
     "name": "stdout",
     "output_type": "stream",
     "text": [
      "Rows dropped =  68136\n",
      "Cols dropped =  0\n"
     ]
    }
   ],
   "source": [
    "# Here is the count of rows that were dropped\n",
    "\n",
    "rows_dropped = df.shape[0] - df_nonan.shape[0]\n",
    "cols_dropped = df.shape[1] - df_nonan.shape[1]\n",
    "print('Rows dropped = ', rows_dropped)\n",
    "print('Cols dropped = ', cols_dropped) #Sanity check\n"
   ]
  },
  {
   "cell_type": "code",
   "execution_count": 11,
   "metadata": {
    "collapsed": false
   },
   "outputs": [
    {
     "data": {
      "text/plain": [
       "count    1.518478e+06\n",
       "mean     7.042488e+00\n",
       "std      2.322568e+00\n",
       "min      1.000000e-02\n",
       "25%      5.200000e+00\n",
       "50%      6.500000e+00\n",
       "75%      8.500000e+00\n",
       "max      5.770000e+01\n",
       "Name: beer_abv, dtype: float64"
      ]
     },
     "execution_count": 11,
     "metadata": {},
     "output_type": "execute_result"
    }
   ],
   "source": [
    "abv_stats= df_nonan[\"beer_abv\"].describe()\n",
    "abv_stats"
   ]
  },
  {
   "cell_type": "markdown",
   "metadata": {},
   "source": [
    "__Answer to Question 3__"
   ]
  },
  {
   "cell_type": "code",
   "execution_count": 12,
   "metadata": {
    "collapsed": false
   },
   "outputs": [
    {
     "data": {
      "text/html": [
       "<div>\n",
       "<table border=\"1\" class=\"dataframe\">\n",
       "  <thead>\n",
       "    <tr style=\"text-align: right;\">\n",
       "      <th></th>\n",
       "      <th>brewery_name</th>\n",
       "      <th>beer_name</th>\n",
       "      <th>beer_abv</th>\n",
       "    </tr>\n",
       "  </thead>\n",
       "  <tbody>\n",
       "    <tr>\n",
       "      <th>0</th>\n",
       "      <td>Vecchio Birraio</td>\n",
       "      <td>Sausa Weizen</td>\n",
       "      <td>5.0</td>\n",
       "    </tr>\n",
       "    <tr>\n",
       "      <th>1</th>\n",
       "      <td>Vecchio Birraio</td>\n",
       "      <td>Red Moon</td>\n",
       "      <td>6.2</td>\n",
       "    </tr>\n",
       "    <tr>\n",
       "      <th>2</th>\n",
       "      <td>Vecchio Birraio</td>\n",
       "      <td>Black Horse Black Beer</td>\n",
       "      <td>6.5</td>\n",
       "    </tr>\n",
       "    <tr>\n",
       "      <th>3</th>\n",
       "      <td>Vecchio Birraio</td>\n",
       "      <td>Sausa Pils</td>\n",
       "      <td>5.0</td>\n",
       "    </tr>\n",
       "    <tr>\n",
       "      <th>4</th>\n",
       "      <td>Caldera Brewing Company</td>\n",
       "      <td>Cauldron DIPA</td>\n",
       "      <td>7.7</td>\n",
       "    </tr>\n",
       "  </tbody>\n",
       "</table>\n",
       "</div>"
      ],
      "text/plain": [
       "              brewery_name               beer_name  beer_abv\n",
       "0          Vecchio Birraio            Sausa Weizen       5.0\n",
       "1          Vecchio Birraio                Red Moon       6.2\n",
       "2          Vecchio Birraio  Black Horse Black Beer       6.5\n",
       "3          Vecchio Birraio              Sausa Pils       5.0\n",
       "4  Caldera Brewing Company           Cauldron DIPA       7.7"
      ]
     },
     "execution_count": 12,
     "metadata": {},
     "output_type": "execute_result"
    }
   ],
   "source": [
    "brewery_df = df_nonan[['brewery_name', 'beer_name', 'beer_abv']]\n",
    "brewery_df.head()"
   ]
  },
  {
   "cell_type": "code",
   "execution_count": 13,
   "metadata": {
    "collapsed": false
   },
   "outputs": [
    {
     "data": {
      "text/plain": [
       "(44075,)"
      ]
     },
     "execution_count": 13,
     "metadata": {},
     "output_type": "execute_result"
    }
   ],
   "source": [
    "brewery_df['beer_name'].unique().shape #these many unique beers"
   ]
  },
  {
   "cell_type": "code",
   "execution_count": 14,
   "metadata": {
    "collapsed": false
   },
   "outputs": [],
   "source": [
    "#There seem to be duplicates. Let's grab the unique beer names\n",
    "unique_beer_names = brewery_df.drop_duplicates(subset = [\"beer_name\"])"
   ]
  },
  {
   "cell_type": "code",
   "execution_count": 15,
   "metadata": {
    "collapsed": false
   },
   "outputs": [
    {
     "data": {
      "text/plain": [
       "(44075, 3)"
      ]
     },
     "execution_count": 15,
     "metadata": {},
     "output_type": "execute_result"
    }
   ],
   "source": [
    "unique_beer_names.shape"
   ]
  },
  {
   "cell_type": "code",
   "execution_count": 16,
   "metadata": {
    "collapsed": false
   },
   "outputs": [
    {
     "data": {
      "text/plain": [
       "12919    Schorschbräu Schorschbock 57%\n",
       "12940    Schorschbräu Schorschbock 43%\n",
       "12939    Schorschbräu Schorschbock 43%\n",
       "Name: beer_name, dtype: object"
      ]
     },
     "execution_count": 16,
     "metadata": {},
     "output_type": "execute_result"
    }
   ],
   "source": [
    "#Top 3 beers by ABV\n",
    "brewery_df.sort_values(by=['beer_abv'], ascending=False)[0:3]['beer_name']\n",
    "#but these show the duplicates"
   ]
  },
  {
   "cell_type": "code",
   "execution_count": 17,
   "metadata": {
    "collapsed": false
   },
   "outputs": [
    {
     "data": {
      "text/plain": [
       "12919      Schorschbräu Schorschbock 57%\n",
       "12939      Schorschbräu Schorschbock 43%\n",
       "746310                Sink The Bismarck!\n",
       "12934      Schorschbräu Schorschbock 40%\n",
       "996149        Black Damnation VI - Messy\n",
       "748332          Tactical Nuclear Penguin\n",
       "12918      Schorschbräu Schorschbock 31%\n",
       "1042320                             Dave\n",
       "746420                        Ghost Deer\n",
       "293578              Samuel Adams Utopias\n",
       "Name: beer_name, dtype: object"
      ]
     },
     "execution_count": 17,
     "metadata": {},
     "output_type": "execute_result"
    }
   ],
   "source": [
    "#Let's show the top 10 beers without duplicates\n",
    "unique_beer_names.sort_values(by=['beer_abv'], ascending=False)[0:10]['beer_name']"
   ]
  },
  {
   "cell_type": "markdown",
   "metadata": {},
   "source": [
    "__ANSWER to QUESTION 4__"
   ]
  },
  {
   "cell_type": "code",
   "execution_count": 18,
   "metadata": {
    "collapsed": true
   },
   "outputs": [],
   "source": [
    "#Top 3 breweries by ABV\n",
    "top_brew = brewery_df.sort_values(by=['beer_abv'], ascending=False)\n",
    "bname = top_brew.brewery_name.unique()"
   ]
  },
  {
   "cell_type": "code",
   "execution_count": 19,
   "metadata": {
    "collapsed": false
   },
   "outputs": [],
   "source": [
    "#brewery_df.sort_values(by=['beer_abv'], ascending=False)\n",
    "#unique_beer_names.sort_values(by=['beer_abv'], ascending=False)"
   ]
  },
  {
   "cell_type": "code",
   "execution_count": 20,
   "metadata": {
    "collapsed": false
   },
   "outputs": [
    {
     "name": "stdout",
     "output_type": "stream",
     "text": [
      "Top 3 breweries by ABV:\n",
      "['Schorschbräu' 'BrewDog' 'De Struise Brouwers']\n"
     ]
    }
   ],
   "source": [
    "print('Top 3 breweries by ABV:')\n",
    "print(bname[0:3])"
   ]
  },
  {
   "cell_type": "markdown",
   "metadata": {},
   "source": [
    "__ANSWER to Question 5__"
   ]
  },
  {
   "cell_type": "code",
   "execution_count": 30,
   "metadata": {
    "collapsed": false
   },
   "outputs": [
    {
     "data": {
      "image/png": "[encoded data removed]",
      "text/plain": [
       "<matplotlib.figure.Figure at 0x115fbb908>"
      ]
     },
     "metadata": {},
     "output_type": "display_data"
    }
   ],
   "source": [
    "#Analyze the beer quality\n",
    "\n",
    "#df_nonan['review_appearance', 'review_aroma', 'review_taste', 'review_palate', 'review_overall']\n",
    "\n",
    "#dft = pd.DataFrame(columns=df_nonan[, 'review_aroma', 'review_taste', , ])\n",
    "dft = df_nonan[['review_aroma', 'review_taste', 'review_appearance', 'review_palate', 'review_overall']]\n",
    "\n",
    "# calculate the correlation matrix\n",
    "corr = dft.corr()\n",
    "\n",
    "# plot the heatmap\n",
    "sns.heatmap(corr, annot=False,\n",
    "        xticklabels=corr.columns,\n",
    "        yticklabels=corr.columns)\n",
    "\n",
    "plt.show()"
   ]
  },
  {
   "cell_type": "code",
   "execution_count": 31,
   "metadata": {
    "collapsed": false
   },
   "outputs": [
    {
     "data": {
      "text/html": [
       "<div>\n",
       "<table border=\"1\" class=\"dataframe\">\n",
       "  <thead>\n",
       "    <tr style=\"text-align: right;\">\n",
       "      <th></th>\n",
       "      <th>review_aroma</th>\n",
       "      <th>review_taste</th>\n",
       "      <th>review_appearance</th>\n",
       "      <th>review_palate</th>\n",
       "      <th>review_overall</th>\n",
       "    </tr>\n",
       "  </thead>\n",
       "  <tbody>\n",
       "    <tr>\n",
       "      <th>review_aroma</th>\n",
       "      <td>1.000000</td>\n",
       "      <td>0.714777</td>\n",
       "      <td>0.559077</td>\n",
       "      <td>0.614924</td>\n",
       "      <td>0.612793</td>\n",
       "    </tr>\n",
       "    <tr>\n",
       "      <th>review_taste</th>\n",
       "      <td>0.714777</td>\n",
       "      <td>1.000000</td>\n",
       "      <td>0.544579</td>\n",
       "      <td>0.732201</td>\n",
       "      <td>0.787171</td>\n",
       "    </tr>\n",
       "    <tr>\n",
       "      <th>review_appearance</th>\n",
       "      <td>0.559077</td>\n",
       "      <td>0.544579</td>\n",
       "      <td>1.000000</td>\n",
       "      <td>0.564555</td>\n",
       "      <td>0.498557</td>\n",
       "    </tr>\n",
       "    <tr>\n",
       "      <th>review_palate</th>\n",
       "      <td>0.614924</td>\n",
       "      <td>0.732201</td>\n",
       "      <td>0.564555</td>\n",
       "      <td>1.000000</td>\n",
       "      <td>0.699020</td>\n",
       "    </tr>\n",
       "    <tr>\n",
       "      <th>review_overall</th>\n",
       "      <td>0.612793</td>\n",
       "      <td>0.787171</td>\n",
       "      <td>0.498557</td>\n",
       "      <td>0.699020</td>\n",
       "      <td>1.000000</td>\n",
       "    </tr>\n",
       "  </tbody>\n",
       "</table>\n",
       "</div>"
      ],
      "text/plain": [
       "                   review_aroma  review_taste  review_appearance  \\\n",
       "review_aroma           1.000000      0.714777           0.559077   \n",
       "review_taste           0.714777      1.000000           0.544579   \n",
       "review_appearance      0.559077      0.544579           1.000000   \n",
       "review_palate          0.614924      0.732201           0.564555   \n",
       "review_overall         0.612793      0.787171           0.498557   \n",
       "\n",
       "                   review_palate  review_overall  \n",
       "review_aroma            0.614924        0.612793  \n",
       "review_taste            0.732201        0.787171  \n",
       "review_appearance       0.564555        0.498557  \n",
       "review_palate           1.000000        0.699020  \n",
       "review_overall          0.699020        1.000000  "
      ]
     },
     "execution_count": 31,
     "metadata": {},
     "output_type": "execute_result"
    }
   ],
   "source": [
    "#Correlation Matrix\n",
    "corr"
   ]
  },
  {
   "cell_type": "code",
   "execution_count": 32,
   "metadata": {
    "collapsed": true
   },
   "outputs": [],
   "source": [
    "#We see high degree of correlation. For instance ... it is unlikely for a beer to have low palate score and low taste \n",
    "#score but high overall score.\n",
    "\n",
    "#Top 3 factors : Taste - Palate - Aroma"
   ]
  },
  {
   "cell_type": "code",
   "execution_count": 33,
   "metadata": {
    "collapsed": false
   },
   "outputs": [
    {
     "data": {
      "text/plain": [
       "<matplotlib.figure.Figure at 0x116208048>"
      ]
     },
     "metadata": {},
     "output_type": "display_data"
    },
    {
     "data": {
      "image/png": "[encoded data removed]",
      "text/plain": [
       "<matplotlib.figure.Figure at 0x116208f28>"
      ]
     },
     "metadata": {},
     "output_type": "display_data"
    }
   ],
   "source": [
    "fig=plt.figure(figsize=(17,10))\n",
    "dft.hist(column=\"review_overall\", bins=7)\n",
    "plt.xlabel(\"Overall Review Score\",fontsize=10)\n",
    "plt.ylabel(\"Frequency\",fontsize=10)\n",
    "plt.xlim([0.0,5])\n",
    "plt.show()"
   ]
  },
  {
   "cell_type": "code",
   "execution_count": 34,
   "metadata": {
    "collapsed": false
   },
   "outputs": [
    {
     "data": {
      "text/plain": [
       "<matplotlib.figure.Figure at 0x11658d5c0>"
      ]
     },
     "metadata": {},
     "output_type": "display_data"
    },
    {
     "data": {
      "image/png": "[encoded data removed]",
      "text/plain": [
       "<matplotlib.figure.Figure at 0x11658d898>"
      ]
     },
     "metadata": {},
     "output_type": "display_data"
    }
   ],
   "source": [
    "fig=plt.figure(figsize=(17,10))\n",
    "dft.hist(column=\"review_taste\", bins=7)\n",
    "plt.xlabel(\"Overall Taste Score\",fontsize=10)\n",
    "plt.ylabel(\"Frequency\",fontsize=10)\n",
    "plt.xlim([0.0,5])\n",
    "plt.show()"
   ]
  },
  {
   "cell_type": "markdown",
   "metadata": {},
   "source": [
    "__ANSWER to Question 6__"
   ]
  },
  {
   "cell_type": "code",
   "execution_count": 42,
   "metadata": {
    "collapsed": false
   },
   "outputs": [
    {
     "data": {
      "text/html": [
       "<div>\n",
       "<table border=\"1\" class=\"dataframe\">\n",
       "  <thead>\n",
       "    <tr>\n",
       "      <th></th>\n",
       "      <th>review_aroma</th>\n",
       "      <th>review_appearance</th>\n",
       "      <th>review_overall</th>\n",
       "    </tr>\n",
       "    <tr>\n",
       "      <th></th>\n",
       "      <th>mean</th>\n",
       "      <th>mean</th>\n",
       "      <th>mean</th>\n",
       "    </tr>\n",
       "    <tr>\n",
       "      <th>beer_style</th>\n",
       "      <th></th>\n",
       "      <th></th>\n",
       "      <th></th>\n",
       "    </tr>\n",
       "  </thead>\n",
       "  <tbody>\n",
       "    <tr>\n",
       "      <th>Altbier</th>\n",
       "      <td>3.635060</td>\n",
       "      <td>3.815625</td>\n",
       "      <td>3.831625</td>\n",
       "    </tr>\n",
       "    <tr>\n",
       "      <th>American Adjunct Lager</th>\n",
       "      <td>2.478646</td>\n",
       "      <td>2.785717</td>\n",
       "      <td>3.010392</td>\n",
       "    </tr>\n",
       "    <tr>\n",
       "      <th>American Amber / Red Ale</th>\n",
       "      <td>3.653243</td>\n",
       "      <td>3.829252</td>\n",
       "      <td>3.803012</td>\n",
       "    </tr>\n",
       "    <tr>\n",
       "      <th>American Amber / Red Lager</th>\n",
       "      <td>3.220028</td>\n",
       "      <td>3.533225</td>\n",
       "      <td>3.577428</td>\n",
       "    </tr>\n",
       "    <tr>\n",
       "      <th>American Barleywine</th>\n",
       "      <td>4.022233</td>\n",
       "      <td>4.040241</td>\n",
       "      <td>3.898904</td>\n",
       "    </tr>\n",
       "  </tbody>\n",
       "</table>\n",
       "</div>"
      ],
      "text/plain": [
       "                           review_aroma review_appearance review_overall\n",
       "                                   mean              mean           mean\n",
       "beer_style                                                              \n",
       "Altbier                        3.635060          3.815625       3.831625\n",
       "American Adjunct Lager         2.478646          2.785717       3.010392\n",
       "American Amber / Red Ale       3.653243          3.829252       3.803012\n",
       "American Amber / Red Lager     3.220028          3.533225       3.577428\n",
       "American Barleywine            4.022233          4.040241       3.898904"
      ]
     },
     "execution_count": 42,
     "metadata": {},
     "output_type": "execute_result"
    }
   ],
   "source": [
    "# Create dataframe with relevant features\n",
    "recommend = df_nonan[['brewery_name', 'review_overall', 'review_aroma', 'review_appearance', 'beer_style']]\n",
    "\n",
    "# Grouping by beer_style, and aggregating statistical values\n",
    "best_rec = recommend.groupby('beer_style').agg({'review_aroma': [np.mean],  'review_appearance': [np.mean], 'review_overall': [np.mean]})\n",
    "best_rec.head(5)\n"
   ]
  },
  {
   "cell_type": "code",
   "execution_count": 43,
   "metadata": {
    "collapsed": true
   },
   "outputs": [],
   "source": [
    "#Use the mean of aroma and appearance to find the best beer recommended by style\n",
    "best_rec['avg_aroma_appearance'] = 0.5*((best_rec['review_appearance', 'mean'] + best_rec['review_aroma', 'mean']))"
   ]
  },
  {
   "cell_type": "code",
   "execution_count": 44,
   "metadata": {
    "collapsed": false
   },
   "outputs": [
    {
     "data": {
      "text/html": [
       "<div>\n",
       "<table border=\"1\" class=\"dataframe\">\n",
       "  <thead>\n",
       "    <tr>\n",
       "      <th></th>\n",
       "      <th>review_aroma</th>\n",
       "      <th>review_appearance</th>\n",
       "      <th>review_overall</th>\n",
       "      <th>avg_aroma_appearance</th>\n",
       "    </tr>\n",
       "    <tr>\n",
       "      <th></th>\n",
       "      <th>mean</th>\n",
       "      <th>mean</th>\n",
       "      <th>mean</th>\n",
       "      <th></th>\n",
       "    </tr>\n",
       "    <tr>\n",
       "      <th>beer_style</th>\n",
       "      <th></th>\n",
       "      <th></th>\n",
       "      <th></th>\n",
       "      <th></th>\n",
       "    </tr>\n",
       "  </thead>\n",
       "  <tbody>\n",
       "    <tr>\n",
       "      <th>American Double / Imperial Stout</th>\n",
       "      <td>4.161478</td>\n",
       "      <td>4.164250</td>\n",
       "      <td>4.030536</td>\n",
       "      <td>4.162864</td>\n",
       "    </tr>\n",
       "    <tr>\n",
       "      <th>Russian Imperial Stout</th>\n",
       "      <td>4.077746</td>\n",
       "      <td>4.212713</td>\n",
       "      <td>4.024652</td>\n",
       "      <td>4.145230</td>\n",
       "    </tr>\n",
       "    <tr>\n",
       "      <th>Quadrupel (Quad)</th>\n",
       "      <td>4.133521</td>\n",
       "      <td>4.119893</td>\n",
       "      <td>4.073156</td>\n",
       "      <td>4.126707</td>\n",
       "    </tr>\n",
       "    <tr>\n",
       "      <th>American Double / Imperial IPA</th>\n",
       "      <td>4.100012</td>\n",
       "      <td>4.080595</td>\n",
       "      <td>4.000323</td>\n",
       "      <td>4.090303</td>\n",
       "    </tr>\n",
       "    <tr>\n",
       "      <th>Gueuze</th>\n",
       "      <td>4.116501</td>\n",
       "      <td>4.037540</td>\n",
       "      <td>4.087397</td>\n",
       "      <td>4.077020</td>\n",
       "    </tr>\n",
       "  </tbody>\n",
       "</table>\n",
       "</div>"
      ],
      "text/plain": [
       "                                 review_aroma review_appearance  \\\n",
       "                                         mean              mean   \n",
       "beer_style                                                        \n",
       "American Double / Imperial Stout     4.161478          4.164250   \n",
       "Russian Imperial Stout               4.077746          4.212713   \n",
       "Quadrupel (Quad)                     4.133521          4.119893   \n",
       "American Double / Imperial IPA       4.100012          4.080595   \n",
       "Gueuze                               4.116501          4.037540   \n",
       "\n",
       "                                 review_overall avg_aroma_appearance  \n",
       "                                           mean                       \n",
       "beer_style                                                            \n",
       "American Double / Imperial Stout       4.030536             4.162864  \n",
       "Russian Imperial Stout                 4.024652             4.145230  \n",
       "Quadrupel (Quad)                       4.073156             4.126707  \n",
       "American Double / Imperial IPA         4.000323             4.090303  \n",
       "Gueuze                                 4.087397             4.077020  "
      ]
     },
     "execution_count": 44,
     "metadata": {},
     "output_type": "execute_result"
    }
   ],
   "source": [
    "best_rec.sort_values(by=['avg_aroma_appearance'], ascending=False)[0:5]"
   ]
  },
  {
   "cell_type": "code",
   "execution_count": 45,
   "metadata": {
    "collapsed": false
   },
   "outputs": [
    {
     "data": {
      "image/png": "[encoded data removed]",
      "text/plain": [
       "<matplotlib.figure.Figure at 0x11a9724a8>"
      ]
     },
     "metadata": {},
     "output_type": "display_data"
    },
    {
     "name": "stdout",
     "output_type": "stream",
     "text": [
      "R-Squared value:  0.952834542727 implies high aroma == high appearance\n"
     ]
    }
   ],
   "source": [
    "# Plotting the data\n",
    "x = best_rec['review_appearance', 'mean']\n",
    "y = best_rec['review_aroma', 'mean']\n",
    "plt.scatter(x, y, alpha=0.5)\n",
    "plt.xlabel('Appearance'); plt.ylabel('Aroma') ;plt.grid() ; plt.show()\n",
    "\n",
    "import scipy.stats\n",
    "from sklearn.linear_model import LinearRegression\n",
    "\n",
    "slope, intercept, r_value, p_value, std_err = scipy.stats.linregress(x, y)\n",
    "\n",
    "print('R-Squared value: ', r_value, 'implies high aroma == high appearance')"
   ]
  },
  {
   "cell_type": "code",
   "execution_count": 46,
   "metadata": {
    "collapsed": false
   },
   "outputs": [
    {
     "data": {
      "text/plain": [
       "array([[ 2.21360322],\n",
       "       [ 4.90350064]])"
      ]
     },
     "execution_count": 46,
     "metadata": {},
     "output_type": "execute_result"
    }
   ],
   "source": [
    "model = LinearRegression()\n",
    "model.fit(x.values.reshape(-1, 1),y.values.reshape(-1, 1))\n",
    "x_new = np.array([2.6,4.8])\n",
    "y_new = model.predict(x_new[:,np.newaxis])\n",
    "y_new"
   ]
  },
  {
   "cell_type": "code",
   "execution_count": 47,
   "metadata": {
    "collapsed": false
   },
   "outputs": [
    {
     "data": {
      "image/png": "[encoded data removed]",
      "text/plain": [
       "<matplotlib.figure.Figure at 0x11add7908>"
      ]
     },
     "metadata": {},
     "output_type": "display_data"
    }
   ],
   "source": [
    "plt.scatter(x, y,color='g')\n",
    "plt.scatter(x_new,y_new, color='r')\n",
    "plt.plot(x, model.predict(x[:,np.newaxis]),color='k')\n",
    "plt.grid()\n",
    "plt.title('Linear Regression Fit for Aroma & Appearance')\n",
    "plt.show()"
   ]
  },
  {
   "cell_type": "markdown",
   "metadata": {
    "collapsed": true
   },
   "source": [
    "__Answer to Question 7__"
   ]
  },
  {
   "cell_type": "code",
   "execution_count": 41,
   "metadata": {
    "collapsed": true
   },
   "outputs": [],
   "source": [
    "# 2.21 and 4.91"
   ]
  },
  {
   "cell_type": "code",
   "execution_count": null,
   "metadata": {
    "collapsed": true
   },
   "outputs": [],
   "source": []
  }
 ],
 "metadata": {
  "anaconda-cloud": {},
  "kernelspec": {
   "display_name": "Python [default]",
   "language": "python",
   "name": "python3"
  },
  "language_info": {
   "codemirror_mode": {
    "name": "ipython",
    "version": 3
   },
   "file_extension": ".py",
   "mimetype": "text/x-python",
   "name": "python",
   "nbconvert_exporter": "python",
   "pygments_lexer": "ipython3",
   "version": "3.5.2"
  }
 },
 "nbformat": 4,
 "nbformat_minor": 2
}
