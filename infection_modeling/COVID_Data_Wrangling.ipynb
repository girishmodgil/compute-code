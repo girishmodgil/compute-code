{
 "cells": [
  {
   "cell_type": "markdown",
   "metadata": {
    "collapsed": true
   },
   "source": [
    "## Download COVID Data from the Web and Process it ##"
   ]
  },
  {
   "cell_type": "markdown",
   "metadata": {},
   "source": [
    "__The webpages are embedded in the code below__"
   ]
  },
  {
   "cell_type": "code",
   "execution_count": 1,
   "metadata": {
    "collapsed": true
   },
   "outputs": [],
   "source": [
    "import pandas as pd\n",
    "import numpy as np\n",
    "import matplotlib.pyplot as plt"
   ]
  },
  {
   "cell_type": "markdown",
   "metadata": {},
   "source": [
    "Confirmed Covid Cases by Country"
   ]
  },
  {
   "cell_type": "code",
   "execution_count": 2,
   "metadata": {
    "collapsed": true
   },
   "outputs": [],
   "source": [
    "# The confirmed cases by country\n",
    "data_url1 = ('https://raw.githubusercontent.com/CSSEGISandData/COVID-19/master/csse_covid_19_data/csse_covid_19_time_series'\n",
    "            '/time_series_covid19_confirmed_global.csv')\n",
    "\n",
    "df_cases = pd.read_csv(data_url1)\n",
    "\n",
    "#Write to local CSV\n",
    "df_cases.to_csv('covid-19-cases.csv')"
   ]
  },
  {
   "cell_type": "markdown",
   "metadata": {},
   "source": [
    "Confirmed Covid Deaths by Country"
   ]
  },
  {
   "cell_type": "code",
   "execution_count": 11,
   "metadata": {
    "collapsed": true
   },
   "outputs": [],
   "source": [
    "# The number of deaths by country\n",
    "data_url2 = ('https://raw.githubusercontent.com/CSSEGISandData/COVID-19/master/csse_covid_19_data/csse_covid_19_time_series'\n",
    "            '/time_series_covid19_deaths_global.csv')\n",
    "df_deaths = pd.read_csv(data_url2)\n",
    "\n",
    "#Write to local CSV\n",
    "df_deaths.to_csv('covid-19-deaths.csv')"
   ]
  },
  {
   "cell_type": "code",
   "execution_count": 12,
   "metadata": {
    "collapsed": true
   },
   "outputs": [],
   "source": [
    "#Clean the Data. Disambiguate the Nationz\n",
    "alias_nations = {\n",
    "    'Cabo Verde': 'Cape Verde',\n",
    "    'Congo (Brazzaville)': 'Congo',\n",
    "    'Congo (Kinshasa)': 'DR Congo',\n",
    "    \"Cote d'Ivoire\": 'Ivory Coast',\n",
    "    'Czechia': 'Czech Republic',\n",
    "    'Holy See': 'Vatican City',\n",
    "    'Korea, South': 'South Korea',\n",
    "    'Taiwan*': 'Taiwan',\n",
    "    'US': 'United States',\n",
    "    'Timor-Leste': 'East Timor',\n",
    "    'West Bank and Gaza': 'Palestine',\n",
    "}"
   ]
  },
  {
   "cell_type": "code",
   "execution_count": 13,
   "metadata": {
    "collapsed": false
   },
   "outputs": [
    {
     "data": {
      "text/html": [
       "<div>\n",
       "<table border=\"1\" class=\"dataframe\">\n",
       "  <thead>\n",
       "    <tr style=\"text-align: right;\">\n",
       "      <th></th>\n",
       "      <th>Rank</th>\n",
       "      <th>Country(or dependent territory)</th>\n",
       "      <th>Population</th>\n",
       "      <th>% of world</th>\n",
       "      <th>Date</th>\n",
       "      <th>Source(official or UN)</th>\n",
       "    </tr>\n",
       "  </thead>\n",
       "  <tbody>\n",
       "    <tr>\n",
       "      <th>0</th>\n",
       "      <td>1</td>\n",
       "      <td>China[b]</td>\n",
       "      <td>1406792720</td>\n",
       "      <td>17.9%</td>\n",
       "      <td>24 Feb 2021</td>\n",
       "      <td>National population clock[3]</td>\n",
       "    </tr>\n",
       "    <tr>\n",
       "      <th>1</th>\n",
       "      <td>2</td>\n",
       "      <td>India[c]</td>\n",
       "      <td>1373741960</td>\n",
       "      <td>17.5%</td>\n",
       "      <td>24 Feb 2021</td>\n",
       "      <td>National population clock[4]</td>\n",
       "    </tr>\n",
       "    <tr>\n",
       "      <th>2</th>\n",
       "      <td>3</td>\n",
       "      <td>United States[d]</td>\n",
       "      <td>331221802</td>\n",
       "      <td>4.22%</td>\n",
       "      <td>24 Feb 2021</td>\n",
       "      <td>National population clock[5]</td>\n",
       "    </tr>\n",
       "    <tr>\n",
       "      <th>3</th>\n",
       "      <td>4</td>\n",
       "      <td>Indonesia</td>\n",
       "      <td>270203917</td>\n",
       "      <td>3.44%</td>\n",
       "      <td>30 Sep 2020</td>\n",
       "      <td>2020 census result[6]</td>\n",
       "    </tr>\n",
       "    <tr>\n",
       "      <th>4</th>\n",
       "      <td>5</td>\n",
       "      <td>Pakistan[e]</td>\n",
       "      <td>225200000</td>\n",
       "      <td>2.87%</td>\n",
       "      <td>1 Jul 2021</td>\n",
       "      <td>UN Projection[2]</td>\n",
       "    </tr>\n",
       "  </tbody>\n",
       "</table>\n",
       "</div>"
      ],
      "text/plain": [
       "  Rank Country(or dependent territory)  Population % of world         Date  \\\n",
       "0    1                        China[b]  1406792720      17.9%  24 Feb 2021   \n",
       "1    2                        India[c]  1373741960      17.5%  24 Feb 2021   \n",
       "2    3                United States[d]   331221802      4.22%  24 Feb 2021   \n",
       "3    4                       Indonesia   270203917      3.44%  30 Sep 2020   \n",
       "4    5                     Pakistan[e]   225200000      2.87%   1 Jul 2021   \n",
       "\n",
       "         Source(official or UN)  \n",
       "0  National population clock[3]  \n",
       "1  National population clock[4]  \n",
       "2  National population clock[5]  \n",
       "3         2020 census result[6]  \n",
       "4              UN Projection[2]  "
      ]
     },
     "execution_count": 13,
     "metadata": {},
     "output_type": "execute_result"
    }
   ],
   "source": [
    "# Populations : Note how cool Pandas is in reading table data from the web\n",
    "url = 'https://en.wikipedia.org/wiki/List_of_countries_and_dependencies_by_population'\n",
    "df_pops = pd.read_html(url, header = 0)[0]\n",
    "df_pops.head()"
   ]
  },
  {
   "cell_type": "code",
   "execution_count": 14,
   "metadata": {
    "collapsed": false
   },
   "outputs": [],
   "source": [
    "# shorten the name\n",
    "df_pops.rename(columns={'Country(or dependent territory)': 'Country'}, inplace=True)"
   ]
  },
  {
   "cell_type": "code",
   "execution_count": 15,
   "metadata": {
    "collapsed": true
   },
   "outputs": [],
   "source": [
    "# Remove footnote \n",
    "df_pops['Country'] = df_pops['Country'].str.replace('\\[\\w\\]', '')"
   ]
  },
  {
   "cell_type": "code",
   "execution_count": 16,
   "metadata": {
    "collapsed": false
   },
   "outputs": [
    {
     "data": {
      "text/html": [
       "<div>\n",
       "<table border=\"1\" class=\"dataframe\">\n",
       "  <thead>\n",
       "    <tr style=\"text-align: right;\">\n",
       "      <th></th>\n",
       "      <th>Rank</th>\n",
       "      <th>Country</th>\n",
       "      <th>Population</th>\n",
       "      <th>% of world</th>\n",
       "      <th>Date</th>\n",
       "      <th>Source(official or UN)</th>\n",
       "    </tr>\n",
       "  </thead>\n",
       "  <tbody>\n",
       "    <tr>\n",
       "      <th>0</th>\n",
       "      <td>1</td>\n",
       "      <td>China</td>\n",
       "      <td>1406792720</td>\n",
       "      <td>17.9%</td>\n",
       "      <td>24 Feb 2021</td>\n",
       "      <td>National population clock[3]</td>\n",
       "    </tr>\n",
       "    <tr>\n",
       "      <th>1</th>\n",
       "      <td>2</td>\n",
       "      <td>India</td>\n",
       "      <td>1373741960</td>\n",
       "      <td>17.5%</td>\n",
       "      <td>24 Feb 2021</td>\n",
       "      <td>National population clock[4]</td>\n",
       "    </tr>\n",
       "    <tr>\n",
       "      <th>2</th>\n",
       "      <td>3</td>\n",
       "      <td>United States</td>\n",
       "      <td>331221802</td>\n",
       "      <td>4.22%</td>\n",
       "      <td>24 Feb 2021</td>\n",
       "      <td>National population clock[5]</td>\n",
       "    </tr>\n",
       "    <tr>\n",
       "      <th>3</th>\n",
       "      <td>4</td>\n",
       "      <td>Indonesia</td>\n",
       "      <td>270203917</td>\n",
       "      <td>3.44%</td>\n",
       "      <td>30 Sep 2020</td>\n",
       "      <td>2020 census result[6]</td>\n",
       "    </tr>\n",
       "    <tr>\n",
       "      <th>4</th>\n",
       "      <td>5</td>\n",
       "      <td>Pakistan</td>\n",
       "      <td>225200000</td>\n",
       "      <td>2.87%</td>\n",
       "      <td>1 Jul 2021</td>\n",
       "      <td>UN Projection[2]</td>\n",
       "    </tr>\n",
       "  </tbody>\n",
       "</table>\n",
       "</div>"
      ],
      "text/plain": [
       "  Rank        Country  Population % of world         Date  \\\n",
       "0    1          China  1406792720      17.9%  24 Feb 2021   \n",
       "1    2          India  1373741960      17.5%  24 Feb 2021   \n",
       "2    3  United States   331221802      4.22%  24 Feb 2021   \n",
       "3    4      Indonesia   270203917      3.44%  30 Sep 2020   \n",
       "4    5       Pakistan   225200000      2.87%   1 Jul 2021   \n",
       "\n",
       "         Source(official or UN)  \n",
       "0  National population clock[3]  \n",
       "1  National population clock[4]  \n",
       "2  National population clock[5]  \n",
       "3         2020 census result[6]  \n",
       "4              UN Projection[2]  "
      ]
     },
     "execution_count": 16,
     "metadata": {},
     "output_type": "execute_result"
    }
   ],
   "source": [
    "df_pops.head()"
   ]
  },
  {
   "cell_type": "code",
   "execution_count": 17,
   "metadata": {
    "collapsed": false
   },
   "outputs": [],
   "source": [
    "# Set the 'Country' column to be the index.\n",
    "df_pops.index = df_pops['Country']"
   ]
  },
  {
   "cell_type": "code",
   "execution_count": 18,
   "metadata": {
    "collapsed": false
   },
   "outputs": [
    {
     "data": {
      "text/html": [
       "<div>\n",
       "<table border=\"1\" class=\"dataframe\">\n",
       "  <thead>\n",
       "    <tr style=\"text-align: right;\">\n",
       "      <th></th>\n",
       "      <th>Rank</th>\n",
       "      <th>Country</th>\n",
       "      <th>Population</th>\n",
       "      <th>% of world</th>\n",
       "      <th>Date</th>\n",
       "      <th>Source(official or UN)</th>\n",
       "    </tr>\n",
       "    <tr>\n",
       "      <th>Country</th>\n",
       "      <th></th>\n",
       "      <th></th>\n",
       "      <th></th>\n",
       "      <th></th>\n",
       "      <th></th>\n",
       "      <th></th>\n",
       "    </tr>\n",
       "  </thead>\n",
       "  <tbody>\n",
       "    <tr>\n",
       "      <th>China</th>\n",
       "      <td>1</td>\n",
       "      <td>China</td>\n",
       "      <td>1406792720</td>\n",
       "      <td>17.9%</td>\n",
       "      <td>24 Feb 2021</td>\n",
       "      <td>National population clock[3]</td>\n",
       "    </tr>\n",
       "    <tr>\n",
       "      <th>India</th>\n",
       "      <td>2</td>\n",
       "      <td>India</td>\n",
       "      <td>1373741960</td>\n",
       "      <td>17.5%</td>\n",
       "      <td>24 Feb 2021</td>\n",
       "      <td>National population clock[4]</td>\n",
       "    </tr>\n",
       "    <tr>\n",
       "      <th>United States</th>\n",
       "      <td>3</td>\n",
       "      <td>United States</td>\n",
       "      <td>331221802</td>\n",
       "      <td>4.22%</td>\n",
       "      <td>24 Feb 2021</td>\n",
       "      <td>National population clock[5]</td>\n",
       "    </tr>\n",
       "    <tr>\n",
       "      <th>Indonesia</th>\n",
       "      <td>4</td>\n",
       "      <td>Indonesia</td>\n",
       "      <td>270203917</td>\n",
       "      <td>3.44%</td>\n",
       "      <td>30 Sep 2020</td>\n",
       "      <td>2020 census result[6]</td>\n",
       "    </tr>\n",
       "    <tr>\n",
       "      <th>Pakistan</th>\n",
       "      <td>5</td>\n",
       "      <td>Pakistan</td>\n",
       "      <td>225200000</td>\n",
       "      <td>2.87%</td>\n",
       "      <td>1 Jul 2021</td>\n",
       "      <td>UN Projection[2]</td>\n",
       "    </tr>\n",
       "  </tbody>\n",
       "</table>\n",
       "</div>"
      ],
      "text/plain": [
       "              Rank        Country  Population % of world         Date  \\\n",
       "Country                                                                 \n",
       "China            1          China  1406792720      17.9%  24 Feb 2021   \n",
       "India            2          India  1373741960      17.5%  24 Feb 2021   \n",
       "United States    3  United States   331221802      4.22%  24 Feb 2021   \n",
       "Indonesia        4      Indonesia   270203917      3.44%  30 Sep 2020   \n",
       "Pakistan         5       Pakistan   225200000      2.87%   1 Jul 2021   \n",
       "\n",
       "                     Source(official or UN)  \n",
       "Country                                      \n",
       "China          National population clock[3]  \n",
       "India          National population clock[4]  \n",
       "United States  National population clock[5]  \n",
       "Indonesia             2020 census result[6]  \n",
       "Pakistan                   UN Projection[2]  "
      ]
     },
     "execution_count": 18,
     "metadata": {},
     "output_type": "execute_result"
    }
   ],
   "source": [
    "df_pops.head()"
   ]
  },
  {
   "cell_type": "code",
   "execution_count": 19,
   "metadata": {
    "collapsed": false
   },
   "outputs": [
    {
     "data": {
      "text/html": [
       "<div>\n",
       "<table border=\"1\" class=\"dataframe\">\n",
       "  <thead>\n",
       "    <tr style=\"text-align: right;\">\n",
       "      <th></th>\n",
       "      <th>Province/State</th>\n",
       "      <th>Country/Region</th>\n",
       "      <th>Lat</th>\n",
       "      <th>Long</th>\n",
       "      <th>1/22/20</th>\n",
       "      <th>1/23/20</th>\n",
       "      <th>1/24/20</th>\n",
       "      <th>1/25/20</th>\n",
       "      <th>1/26/20</th>\n",
       "      <th>1/27/20</th>\n",
       "      <th>...</th>\n",
       "      <th>2/14/21</th>\n",
       "      <th>2/15/21</th>\n",
       "      <th>2/16/21</th>\n",
       "      <th>2/17/21</th>\n",
       "      <th>2/18/21</th>\n",
       "      <th>2/19/21</th>\n",
       "      <th>2/20/21</th>\n",
       "      <th>2/21/21</th>\n",
       "      <th>2/22/21</th>\n",
       "      <th>2/23/21</th>\n",
       "    </tr>\n",
       "  </thead>\n",
       "  <tbody>\n",
       "    <tr>\n",
       "      <th>0</th>\n",
       "      <td>NaN</td>\n",
       "      <td>Afghanistan</td>\n",
       "      <td>33.93911</td>\n",
       "      <td>67.709953</td>\n",
       "      <td>0</td>\n",
       "      <td>0</td>\n",
       "      <td>0</td>\n",
       "      <td>0</td>\n",
       "      <td>0</td>\n",
       "      <td>0</td>\n",
       "      <td>...</td>\n",
       "      <td>55492</td>\n",
       "      <td>55514</td>\n",
       "      <td>55518</td>\n",
       "      <td>55540</td>\n",
       "      <td>55557</td>\n",
       "      <td>55575</td>\n",
       "      <td>55580</td>\n",
       "      <td>55604</td>\n",
       "      <td>55617</td>\n",
       "      <td>55646</td>\n",
       "    </tr>\n",
       "    <tr>\n",
       "      <th>1</th>\n",
       "      <td>NaN</td>\n",
       "      <td>Albania</td>\n",
       "      <td>41.15330</td>\n",
       "      <td>20.168300</td>\n",
       "      <td>0</td>\n",
       "      <td>0</td>\n",
       "      <td>0</td>\n",
       "      <td>0</td>\n",
       "      <td>0</td>\n",
       "      <td>0</td>\n",
       "      <td>...</td>\n",
       "      <td>93075</td>\n",
       "      <td>93850</td>\n",
       "      <td>94651</td>\n",
       "      <td>95726</td>\n",
       "      <td>96838</td>\n",
       "      <td>97909</td>\n",
       "      <td>99062</td>\n",
       "      <td>100246</td>\n",
       "      <td>101285</td>\n",
       "      <td>102306</td>\n",
       "    </tr>\n",
       "    <tr>\n",
       "      <th>2</th>\n",
       "      <td>NaN</td>\n",
       "      <td>Algeria</td>\n",
       "      <td>28.03390</td>\n",
       "      <td>1.659600</td>\n",
       "      <td>0</td>\n",
       "      <td>0</td>\n",
       "      <td>0</td>\n",
       "      <td>0</td>\n",
       "      <td>0</td>\n",
       "      <td>0</td>\n",
       "      <td>...</td>\n",
       "      <td>110711</td>\n",
       "      <td>110894</td>\n",
       "      <td>111069</td>\n",
       "      <td>111247</td>\n",
       "      <td>111418</td>\n",
       "      <td>111600</td>\n",
       "      <td>111764</td>\n",
       "      <td>111917</td>\n",
       "      <td>112094</td>\n",
       "      <td>112279</td>\n",
       "    </tr>\n",
       "    <tr>\n",
       "      <th>3</th>\n",
       "      <td>NaN</td>\n",
       "      <td>Andorra</td>\n",
       "      <td>42.50630</td>\n",
       "      <td>1.521800</td>\n",
       "      <td>0</td>\n",
       "      <td>0</td>\n",
       "      <td>0</td>\n",
       "      <td>0</td>\n",
       "      <td>0</td>\n",
       "      <td>0</td>\n",
       "      <td>...</td>\n",
       "      <td>10503</td>\n",
       "      <td>10538</td>\n",
       "      <td>10555</td>\n",
       "      <td>10583</td>\n",
       "      <td>10610</td>\n",
       "      <td>10645</td>\n",
       "      <td>10672</td>\n",
       "      <td>10699</td>\n",
       "      <td>10712</td>\n",
       "      <td>10739</td>\n",
       "    </tr>\n",
       "    <tr>\n",
       "      <th>4</th>\n",
       "      <td>NaN</td>\n",
       "      <td>Angola</td>\n",
       "      <td>-11.20270</td>\n",
       "      <td>17.873900</td>\n",
       "      <td>0</td>\n",
       "      <td>0</td>\n",
       "      <td>0</td>\n",
       "      <td>0</td>\n",
       "      <td>0</td>\n",
       "      <td>0</td>\n",
       "      <td>...</td>\n",
       "      <td>20366</td>\n",
       "      <td>20381</td>\n",
       "      <td>20389</td>\n",
       "      <td>20400</td>\n",
       "      <td>20452</td>\n",
       "      <td>20478</td>\n",
       "      <td>20499</td>\n",
       "      <td>20519</td>\n",
       "      <td>20548</td>\n",
       "      <td>20584</td>\n",
       "    </tr>\n",
       "  </tbody>\n",
       "</table>\n",
       "<p>5 rows × 403 columns</p>\n",
       "</div>"
      ],
      "text/plain": [
       "  Province/State Country/Region       Lat       Long  1/22/20  1/23/20  \\\n",
       "0            NaN    Afghanistan  33.93911  67.709953        0        0   \n",
       "1            NaN        Albania  41.15330  20.168300        0        0   \n",
       "2            NaN        Algeria  28.03390   1.659600        0        0   \n",
       "3            NaN        Andorra  42.50630   1.521800        0        0   \n",
       "4            NaN         Angola -11.20270  17.873900        0        0   \n",
       "\n",
       "   1/24/20  1/25/20  1/26/20  1/27/20   ...     2/14/21  2/15/21  2/16/21  \\\n",
       "0        0        0        0        0   ...       55492    55514    55518   \n",
       "1        0        0        0        0   ...       93075    93850    94651   \n",
       "2        0        0        0        0   ...      110711   110894   111069   \n",
       "3        0        0        0        0   ...       10503    10538    10555   \n",
       "4        0        0        0        0   ...       20366    20381    20389   \n",
       "\n",
       "   2/17/21  2/18/21  2/19/21  2/20/21  2/21/21  2/22/21  2/23/21  \n",
       "0    55540    55557    55575    55580    55604    55617    55646  \n",
       "1    95726    96838    97909    99062   100246   101285   102306  \n",
       "2   111247   111418   111600   111764   111917   112094   112279  \n",
       "3    10583    10610    10645    10672    10699    10712    10739  \n",
       "4    20400    20452    20478    20499    20519    20548    20584  \n",
       "\n",
       "[5 rows x 403 columns]"
      ]
     },
     "execution_count": 19,
     "metadata": {},
     "output_type": "execute_result"
    }
   ],
   "source": [
    "df_cases.head()"
   ]
  },
  {
   "cell_type": "code",
   "execution_count": 20,
   "metadata": {
    "collapsed": false
   },
   "outputs": [
    {
     "data": {
      "text/plain": [
       "192"
      ]
     },
     "execution_count": 20,
     "metadata": {},
     "output_type": "execute_result"
    }
   ],
   "source": [
    "# Get the unique country names affected by COVID-19\n",
    "covid_countries = df_cases['Country/Region'].unique()\n",
    "len(covid_countries)"
   ]
  },
  {
   "cell_type": "code",
   "execution_count": 23,
   "metadata": {
    "collapsed": true
   },
   "outputs": [],
   "source": [
    "#use the covid countries list and \n",
    "#write out the country with their populations to a CSV for reference. \n",
    "#Clean up non-existent countries like cruise ships"
   ]
  },
  {
   "cell_type": "code",
   "execution_count": 24,
   "metadata": {
    "collapsed": false
   },
   "outputs": [
    {
     "name": "stdout",
     "output_type": "stream",
     "text": [
      "Not found:  Burma\n",
      "Not found:  Diamond Princess\n",
      "Not found:  Holy See\n",
      "Not found:  MS Zaandam\n",
      "Not found:  Micronesia\n",
      "Not found:  Sao Tome and Principe\n"
     ]
    }
   ],
   "source": [
    "f = open('country_pops.csv', 'w')\n",
    "print('Country, Population', file=f)\n",
    "for country in covid_countries:\n",
    "    if country not in df_pops.index:\n",
    "        try:\n",
    "             print('{}, {}'.format(alias_nations[country], df_pops.loc[alias_nations[country], 'Population']), file=f)\n",
    "            #print(country_aliases[country], df.loc[country_aliases[country], 'Population'])\n",
    "        except:\n",
    "            print('Not found: ', country)\n",
    "            continue\n",
    "    else:\n",
    "        print('{}, {}'.format(country, df_pops.loc[country,'Population']), file=f)\n",
    "        #print(country, df.loc[country,'Population'])\n",
    "f.close()"
   ]
  },
  {
   "cell_type": "code",
   "execution_count": 25,
   "metadata": {
    "collapsed": true
   },
   "outputs": [],
   "source": [
    "df_cases.rename(columns={'Country/Region': 'Country'}, inplace=True)\n",
    "df_deaths.rename(columns={'Country/Region':'Country'}, inplace=True)"
   ]
  },
  {
   "cell_type": "code",
   "execution_count": 26,
   "metadata": {
    "collapsed": false
   },
   "outputs": [
    {
     "data": {
      "text/html": [
       "<div>\n",
       "<table border=\"1\" class=\"dataframe\">\n",
       "  <thead>\n",
       "    <tr style=\"text-align: right;\">\n",
       "      <th></th>\n",
       "      <th>Lat</th>\n",
       "      <th>Long</th>\n",
       "      <th>1/22/20</th>\n",
       "      <th>1/23/20</th>\n",
       "      <th>1/24/20</th>\n",
       "      <th>1/25/20</th>\n",
       "      <th>1/26/20</th>\n",
       "      <th>1/27/20</th>\n",
       "      <th>1/28/20</th>\n",
       "      <th>1/29/20</th>\n",
       "      <th>...</th>\n",
       "      <th>2/14/21</th>\n",
       "      <th>2/15/21</th>\n",
       "      <th>2/16/21</th>\n",
       "      <th>2/17/21</th>\n",
       "      <th>2/18/21</th>\n",
       "      <th>2/19/21</th>\n",
       "      <th>2/20/21</th>\n",
       "      <th>2/21/21</th>\n",
       "      <th>2/22/21</th>\n",
       "      <th>2/23/21</th>\n",
       "    </tr>\n",
       "    <tr>\n",
       "      <th>Country</th>\n",
       "      <th></th>\n",
       "      <th></th>\n",
       "      <th></th>\n",
       "      <th></th>\n",
       "      <th></th>\n",
       "      <th></th>\n",
       "      <th></th>\n",
       "      <th></th>\n",
       "      <th></th>\n",
       "      <th></th>\n",
       "      <th></th>\n",
       "      <th></th>\n",
       "      <th></th>\n",
       "      <th></th>\n",
       "      <th></th>\n",
       "      <th></th>\n",
       "      <th></th>\n",
       "      <th></th>\n",
       "      <th></th>\n",
       "      <th></th>\n",
       "      <th></th>\n",
       "    </tr>\n",
       "  </thead>\n",
       "  <tbody>\n",
       "    <tr>\n",
       "      <th>Afghanistan</th>\n",
       "      <td>33.93911</td>\n",
       "      <td>67.709953</td>\n",
       "      <td>0</td>\n",
       "      <td>0</td>\n",
       "      <td>0</td>\n",
       "      <td>0</td>\n",
       "      <td>0</td>\n",
       "      <td>0</td>\n",
       "      <td>0</td>\n",
       "      <td>0</td>\n",
       "      <td>...</td>\n",
       "      <td>55492</td>\n",
       "      <td>55514</td>\n",
       "      <td>55518</td>\n",
       "      <td>55540</td>\n",
       "      <td>55557</td>\n",
       "      <td>55575</td>\n",
       "      <td>55580</td>\n",
       "      <td>55604</td>\n",
       "      <td>55617</td>\n",
       "      <td>55646</td>\n",
       "    </tr>\n",
       "    <tr>\n",
       "      <th>Albania</th>\n",
       "      <td>41.15330</td>\n",
       "      <td>20.168300</td>\n",
       "      <td>0</td>\n",
       "      <td>0</td>\n",
       "      <td>0</td>\n",
       "      <td>0</td>\n",
       "      <td>0</td>\n",
       "      <td>0</td>\n",
       "      <td>0</td>\n",
       "      <td>0</td>\n",
       "      <td>...</td>\n",
       "      <td>93075</td>\n",
       "      <td>93850</td>\n",
       "      <td>94651</td>\n",
       "      <td>95726</td>\n",
       "      <td>96838</td>\n",
       "      <td>97909</td>\n",
       "      <td>99062</td>\n",
       "      <td>100246</td>\n",
       "      <td>101285</td>\n",
       "      <td>102306</td>\n",
       "    </tr>\n",
       "    <tr>\n",
       "      <th>Algeria</th>\n",
       "      <td>28.03390</td>\n",
       "      <td>1.659600</td>\n",
       "      <td>0</td>\n",
       "      <td>0</td>\n",
       "      <td>0</td>\n",
       "      <td>0</td>\n",
       "      <td>0</td>\n",
       "      <td>0</td>\n",
       "      <td>0</td>\n",
       "      <td>0</td>\n",
       "      <td>...</td>\n",
       "      <td>110711</td>\n",
       "      <td>110894</td>\n",
       "      <td>111069</td>\n",
       "      <td>111247</td>\n",
       "      <td>111418</td>\n",
       "      <td>111600</td>\n",
       "      <td>111764</td>\n",
       "      <td>111917</td>\n",
       "      <td>112094</td>\n",
       "      <td>112279</td>\n",
       "    </tr>\n",
       "    <tr>\n",
       "      <th>Andorra</th>\n",
       "      <td>42.50630</td>\n",
       "      <td>1.521800</td>\n",
       "      <td>0</td>\n",
       "      <td>0</td>\n",
       "      <td>0</td>\n",
       "      <td>0</td>\n",
       "      <td>0</td>\n",
       "      <td>0</td>\n",
       "      <td>0</td>\n",
       "      <td>0</td>\n",
       "      <td>...</td>\n",
       "      <td>10503</td>\n",
       "      <td>10538</td>\n",
       "      <td>10555</td>\n",
       "      <td>10583</td>\n",
       "      <td>10610</td>\n",
       "      <td>10645</td>\n",
       "      <td>10672</td>\n",
       "      <td>10699</td>\n",
       "      <td>10712</td>\n",
       "      <td>10739</td>\n",
       "    </tr>\n",
       "    <tr>\n",
       "      <th>Angola</th>\n",
       "      <td>-11.20270</td>\n",
       "      <td>17.873900</td>\n",
       "      <td>0</td>\n",
       "      <td>0</td>\n",
       "      <td>0</td>\n",
       "      <td>0</td>\n",
       "      <td>0</td>\n",
       "      <td>0</td>\n",
       "      <td>0</td>\n",
       "      <td>0</td>\n",
       "      <td>...</td>\n",
       "      <td>20366</td>\n",
       "      <td>20381</td>\n",
       "      <td>20389</td>\n",
       "      <td>20400</td>\n",
       "      <td>20452</td>\n",
       "      <td>20478</td>\n",
       "      <td>20499</td>\n",
       "      <td>20519</td>\n",
       "      <td>20548</td>\n",
       "      <td>20584</td>\n",
       "    </tr>\n",
       "  </tbody>\n",
       "</table>\n",
       "<p>5 rows × 401 columns</p>\n",
       "</div>"
      ],
      "text/plain": [
       "                  Lat       Long  1/22/20  1/23/20  1/24/20  1/25/20  1/26/20  \\\n",
       "Country                                                                         \n",
       "Afghanistan  33.93911  67.709953        0        0        0        0        0   \n",
       "Albania      41.15330  20.168300        0        0        0        0        0   \n",
       "Algeria      28.03390   1.659600        0        0        0        0        0   \n",
       "Andorra      42.50630   1.521800        0        0        0        0        0   \n",
       "Angola      -11.20270  17.873900        0        0        0        0        0   \n",
       "\n",
       "             1/27/20  1/28/20  1/29/20   ...     2/14/21  2/15/21  2/16/21  \\\n",
       "Country                                  ...                                 \n",
       "Afghanistan        0        0        0   ...       55492    55514    55518   \n",
       "Albania            0        0        0   ...       93075    93850    94651   \n",
       "Algeria            0        0        0   ...      110711   110894   111069   \n",
       "Andorra            0        0        0   ...       10503    10538    10555   \n",
       "Angola             0        0        0   ...       20366    20381    20389   \n",
       "\n",
       "             2/17/21  2/18/21  2/19/21  2/20/21  2/21/21  2/22/21  2/23/21  \n",
       "Country                                                                     \n",
       "Afghanistan    55540    55557    55575    55580    55604    55617    55646  \n",
       "Albania        95726    96838    97909    99062   100246   101285   102306  \n",
       "Algeria       111247   111418   111600   111764   111917   112094   112279  \n",
       "Andorra        10583    10610    10645    10672    10699    10712    10739  \n",
       "Angola         20400    20452    20478    20499    20519    20548    20584  \n",
       "\n",
       "[5 rows x 401 columns]"
      ]
     },
     "execution_count": 26,
     "metadata": {},
     "output_type": "execute_result"
    }
   ],
   "source": [
    "df_cases.groupby('Country').sum().head()"
   ]
  },
  {
   "cell_type": "code",
   "execution_count": 27,
   "metadata": {
    "collapsed": true
   },
   "outputs": [],
   "source": [
    "df_case_agg = df_cases.groupby('Country').sum()\n",
    "df_case_agg.rename(index = alias_nations, inplace = True)\n",
    "\n",
    "df_deaths_agg = df_deaths.groupby('Country').sum()\n",
    "df_deaths_agg.rename(index = alias_nations, inplace = True)"
   ]
  },
  {
   "cell_type": "code",
   "execution_count": 28,
   "metadata": {
    "collapsed": true
   },
   "outputs": [],
   "source": [
    "def country_plot(dataf, country, MIN_CASES, status ):\n",
    "    \n",
    "    # Extract the Series corresponding to the case numbers for country.\n",
    "    c_df = dataf.loc[country, dataf.columns[3:]].astype(int)\n",
    "    c_df.index = pd.to_datetime(c_df.index)\n",
    "    c_df = c_df[c_df >= MIN_CASES]\n",
    "    n = len(c_df)\n",
    "    if n == 0:\n",
    "        print('Too few data to plot: minimum number is {}'.format(MIN_CASES))\n",
    "        sys.exit(-1)\n",
    "    fig = plt.Figure()\n",
    "\n",
    "    \n",
    "    # Arrange the subplots on a grid: the top plot (case number change) is\n",
    "    # one quarter the height of the bar chart (total confirmed case numbers).\n",
    "    #ax2 = plt.subplot2grid((4,1), (0,0))\n",
    "    ax1 = plt.subplot2grid((4,1), (1,0), rowspan=3)\n",
    "    ax1.bar(range(n), c_df.values)\n",
    "\n",
    "    # Force the x-axis to be in integers (whole number of days) in case\n",
    "    # Matplotlib chooses some non-integral number of days to label).\n",
    "    ax1.xaxis.set_major_locator(MaxNLocator(integer=True))\n",
    "\n",
    "    c_df_change = c_df.diff()\n",
    "    #ax2.bar(range(n), c_df_change.values)\n",
    "    #ax2.set_xticks([])\n",
    "\n",
    "    ax1.set_xlabel('Days since {} {} were found'.format(MIN_CASES, status))\n",
    "    ax1.set_ylabel('Number of {}, $N$'.format(status))\n",
    "    #ax2.set_ylabel('$\\Delta N$')\n",
    "\n",
    "    # Add a title reporting the latest number of cases available.\n",
    "    title = '{}\\n{} on {}'.format(country, c_df[-1], c_df.index[-1].strftime('%d %B %Y'))\n",
    "    plt.suptitle(title)\n",
    "    plt.show()"
   ]
  },
  {
   "cell_type": "code",
   "execution_count": 29,
   "metadata": {
    "collapsed": false
   },
   "outputs": [
    {
     "data": {
      "image/png": "[encoded data removed]",
      "text/plain": [
       "<matplotlib.figure.Figure at 0x1152676a0>"
      ]
     },
     "metadata": {},
     "output_type": "display_data"
    }
   ],
   "source": [
    "import sys\n",
    "from matplotlib.ticker import MaxNLocator\n",
    "MIN_CASES = 1000\n",
    "country = 'United States'\n",
    "country_plot(df_deaths_agg, 'United States', MIN_CASES, 'deaths')"
   ]
  },
  {
   "cell_type": "code",
   "execution_count": 30,
   "metadata": {
    "collapsed": false
   },
   "outputs": [
    {
     "data": {
      "image/png": "[encoded data removed]",
      "text/plain": [
       "<matplotlib.figure.Figure at 0x118a2a780>"
      ]
     },
     "metadata": {},
     "output_type": "display_data"
    }
   ],
   "source": [
    "country_plot(df_case_agg, 'United States', MIN_CASES, 'cases')"
   ]
  },
  {
   "cell_type": "code",
   "execution_count": 31,
   "metadata": {
    "collapsed": false
   },
   "outputs": [
    {
     "data": {
      "image/png": "[encoded data removed]",
      "text/plain": [
       "<matplotlib.figure.Figure at 0x113ef2d30>"
      ]
     },
     "metadata": {},
     "output_type": "display_data"
    }
   ],
   "source": [
    "country_plot(df_deaths_agg, 'India', MIN_CASES, 'deaths')"
   ]
  },
  {
   "cell_type": "code",
   "execution_count": 32,
   "metadata": {
    "collapsed": false
   },
   "outputs": [
    {
     "data": {
      "image/png": "[encoded data removed]",
      "text/plain": [
       "<matplotlib.figure.Figure at 0x1145d27f0>"
      ]
     },
     "metadata": {},
     "output_type": "display_data"
    }
   ],
   "source": [
    "country_plot(df_case_agg, 'India', MIN_CASES, 'cases')"
   ]
  },
  {
   "cell_type": "code",
   "execution_count": null,
   "metadata": {
    "collapsed": true
   },
   "outputs": [],
   "source": []
  }
 ],
 "metadata": {
  "anaconda-cloud": {},
  "kernelspec": {
   "display_name": "Python [default]",
   "language": "python",
   "name": "python3"
  },
  "language_info": {
   "codemirror_mode": {
    "name": "ipython",
    "version": 3
   },
   "file_extension": ".py",
   "mimetype": "text/x-python",
   "name": "python",
   "nbconvert_exporter": "python",
   "pygments_lexer": "ipython3",
   "version": "3.5.2"
  }
 },
 "nbformat": 4,
 "nbformat_minor": 2
}
