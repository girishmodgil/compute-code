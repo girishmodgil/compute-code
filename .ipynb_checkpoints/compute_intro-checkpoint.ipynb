{
 "cells": [
  {
   "cell_type": "code",
   "execution_count": 14,
   "metadata": {
    "collapsed": true
   },
   "outputs": [],
   "source": [
    "import sys\n",
    "import math\n",
    "import numpy as np"
   ]
  },
  {
   "cell_type": "markdown",
   "metadata": {
    "collapsed": true
   },
   "source": [
    "**Fibonacci recursive**"
   ]
  },
  {
   "cell_type": "code",
   "execution_count": 6,
   "metadata": {
    "collapsed": true
   },
   "outputs": [],
   "source": [
    "def fib(n):\n",
    "    \"\"\"Assumes you are passing an integer\"\"\"\n",
    "    xfib = abs(n)\n",
    "    xfib = int(xfib)\n",
    "    if xfib==0 or xfib==1:\n",
    "        return 1\n",
    "    else:\n",
    "        return fib(n-1) + fib(n-2)"
   ]
  },
  {
   "cell_type": "code",
   "execution_count": 26,
   "metadata": {
    "collapsed": false
   },
   "outputs": [
    {
     "data": {
      "text/plain": [
       "89"
      ]
     },
     "execution_count": 26,
     "metadata": {},
     "output_type": "execute_result"
    }
   ],
   "source": [
    "fib(10)"
   ]
  },
  {
   "cell_type": "markdown",
   "metadata": {},
   "source": [
    "**Recursive Factorial**"
   ]
  },
  {
   "cell_type": "code",
   "execution_count": 24,
   "metadata": {
    "collapsed": true
   },
   "outputs": [],
   "source": [
    "def factR(n):\n",
    "    \"\"\" Assumes an integer\"\"\"\n",
    "    xfact=abs(n)\n",
    "    xfact = math.floor(xfact)\n",
    "    if n==1:\n",
    "        return n\n",
    "    else:\n",
    "        return n*factR(n-1)"
   ]
  },
  {
   "cell_type": "code",
   "execution_count": 27,
   "metadata": {
    "collapsed": false
   },
   "outputs": [
    {
     "data": {
      "text/plain": [
       "2432902008176640000"
      ]
     },
     "execution_count": 27,
     "metadata": {},
     "output_type": "execute_result"
    }
   ],
   "source": [
    "factR(20)"
   ]
  },
  {
   "cell_type": "markdown",
   "metadata": {},
   "source": [
    "**Bisection Method to find Roots**"
   ]
  },
  {
   "cell_type": "code",
   "execution_count": 21,
   "metadata": {
    "collapsed": true
   },
   "outputs": [],
   "source": [
    "def findroot(x, power, eps):\n",
    "    \"\"\"x : int/float, power: int, eps: int/float \"\"\"\n",
    "    if x<0:\n",
    "        print('No roots can be found')\n",
    "        return None\n",
    "    \n",
    "    low = min(-1,x)\n",
    "    high= max(1,x)\n",
    "    tmp = (low + high)/2.0\n",
    "    while abs(tmp**power - x) >= eps:\n",
    "        print('Low: ', low, ' high: ', high)\n",
    "        if tmp**power < x:\n",
    "            low = tmp\n",
    "        else:\n",
    "            high = tmp\n",
    "        tmp = (high + low )/2.0\n",
    "    return tmp"
   ]
  },
  {
   "cell_type": "code",
   "execution_count": 22,
   "metadata": {
    "collapsed": false
   },
   "outputs": [
    {
     "name": "stdout",
     "output_type": "stream",
     "text": [
      "Low:  -1  high:  8\n",
      "Low:  -1  high:  3.5\n",
      "Low:  1.25  high:  3.5\n",
      "Low:  2.375  high:  3.5\n",
      "Low:  2.375  high:  2.9375\n",
      "Low:  2.65625  high:  2.9375\n",
      "Low:  2.796875  high:  2.9375\n",
      "Low:  2.796875  high:  2.8671875\n",
      "Low:  2.796875  high:  2.83203125\n",
      "Low:  2.814453125  high:  2.83203125\n",
      "Low:  2.8232421875  high:  2.83203125\n",
      "Low:  2.82763671875  high:  2.83203125\n",
      "Low:  2.82763671875  high:  2.829833984375\n",
      "Low:  2.82763671875  high:  2.8287353515625\n"
     ]
    },
    {
     "data": {
      "text/plain": [
       "2.828460693359375"
      ]
     },
     "execution_count": 22,
     "metadata": {},
     "output_type": "execute_result"
    }
   ],
   "source": [
    "findroot(8,2,0.001)"
   ]
  },
  {
   "cell_type": "code",
   "execution_count": null,
   "metadata": {
    "collapsed": true
   },
   "outputs": [],
   "source": []
  }
 ],
 "metadata": {
  "anaconda-cloud": {},
  "kernelspec": {
   "display_name": "Python [conda root]",
   "language": "python",
   "name": "conda-root-py"
  },
  "language_info": {
   "codemirror_mode": {
    "name": "ipython",
    "version": 3
   },
   "file_extension": ".py",
   "mimetype": "text/x-python",
   "name": "python",
   "nbconvert_exporter": "python",
   "pygments_lexer": "ipython3",
   "version": "3.5.2"
  }
 },
 "nbformat": 4,
 "nbformat_minor": 1
}
